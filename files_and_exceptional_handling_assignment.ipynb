{
  "nbformat": 4,
  "nbformat_minor": 0,
  "metadata": {
    "colab": {
      "provenance": []
    },
    "kernelspec": {
      "name": "python3",
      "display_name": "Python 3"
    },
    "language_info": {
      "name": "python"
    }
  },
  "cells": [
    {
      "cell_type": "markdown",
      "source": [
        "#Files, exceptional handling, logging and memory management Questions"
      ],
      "metadata": {
        "id": "NX3hYZzYQCay"
      }
    },
    {
      "cell_type": "markdown",
      "source": [
        "1.  What is the difference between interpreted and compiled languages?\n",
        "\n",
        "       - Compiler perform its task in one go while interpreter performs it line by line.\n",
        "\n",
        "\n",
        "\n",
        "2. What is exception handling in Python?\n",
        "            \n",
        "\n",
        "        -Exception handling is a mechanism in Python that allows you to handle and manage errors or exceptions that occur during the execution of your code. It enables you to write robust and reliable code that can recover from unexpected errors and continue executing.\n",
        "\n",
        "\n",
        "\n",
        "3.  What is the purpose of the finally block in exception handling?\n",
        "\n",
        "\n",
        "            -. Release Resources: Close files, connections, or other resources that were opened in the try block.\n",
        ". Cleanup: Perform any necessary cleanup operations, such as deleting temporary files or releasing locks.\n",
        "\n",
        "\n",
        ". Ensure Code Execution: Ensure that certain code is executed regardless of the outcome of the try and except blocks.\n",
        "\n",
        "\n",
        "\n",
        "\n",
        "\n",
        "4. What is logging in Python?\n",
        "\n",
        "    - It records the state and flow of your program/code/software.\n",
        "\n",
        "\n",
        "    useful for understandind ,debugging and monitring the code.\n",
        "\n",
        "\n",
        "\n",
        "\n",
        "5.  What is the significance of the __del__ method in Python?\n",
        "\n",
        "\n",
        "\n",
        "        - The __del__ method in Python is a special method that is automatically called when an object is about to be destroyed. It is also known as the destructor method.\n",
        "\n",
        "6.  What is the difference between import and from ... import in Python?\n",
        "\n",
        "\n",
        "\n",
        "      - In Python, you can import modules using two different syntaxes: import and from ... import. The main difference between them lies in how you access the imported module's contents.\n",
        "\n",
        "*import Statement:*\n",
        "\n",
        "The import statement imports the entire module, and you can access its contents using the module name.\n",
        "     \n",
        "\n",
        "\n",
        "\n",
        "The from ... import statement imports specific components (functions, variables, classes) from a module, and you can access them directly without using the module name.\n",
        "\n",
        "\n",
        "from math import pi\n",
        "print(pi)\n",
        "\n",
        "\n",
        "\n",
        "\n",
        "\n",
        "\n",
        "\n",
        "7. How can you handle multiple exceptions in Python?\n",
        "\n",
        "\n",
        "\n",
        "\n",
        "            - : Handle specific exceptions instead of catching the general Exception class.\n",
        ". *Keep try Blocks Short*: Keep the code in the try block as short as possible to avoid catching unrelated exceptions.\n",
        ". Provide Meaningful Error Messages: Provide meaningful error messages to help users understand what went wrong.\n",
        "\n",
        "By handling multiple exceptions, you can write more robust and reliable code that can recover from unexpected errors.\n",
        "\n",
        "\n",
        "\n",
        "\n",
        "\n",
        "8.    What is the purpose of the with statement when handling files in Python?\n",
        "\n",
        "\n",
        "\n",
        "             - The with statement in Python is used to manage resources, such as files, connections, or locks, that require cleanup after use. When handling files, the with statement ensures that the file is properly closed after you're done with it, regardless of whether an exception occurs or not.\n",
        "\n",
        "9.   What is the difference between multithreading and multiprocessing?\n",
        "\n",
        "\n",
        "\n",
        "                   - Both are used to perform multiple tasks at a same time but threading is lightweighted while processing is heavyweight.\n",
        "\n",
        "\n",
        "\n",
        "10. What are the advantages of using logging in a program?\n",
        "\n",
        "\n",
        "\n",
        "\n",
        "          -  Logging is a crucial aspect of software development that provides numerous benefits. Here are some of the key advantages of using logging in a program:\n",
        "\n",
        ". Debugging and Troubleshooting:\n",
        "\n",
        "- Logging helps developers identify and diagnose issues in their code by providing detailed information about the program's execution.\n",
        "- Logs can be used to track the flow of execution, identify errors, and understand the state of the program at specific points.\n",
        "\n",
        ". Error Detection and Analysis:\n",
        "\n",
        "- Logging enables developers to detect and analyze errors, exceptions, and unexpected behavior in their code.\n",
        "- By logging error messages and relevant data, developers can understand the root cause of issues and fix them more efficiently.\n",
        "\n",
        ". Auditing and Security:\n",
        "\n",
        "- Logging can be used to track user activity, system changes, and security-related events.\n",
        "- This helps in auditing, security monitoring, and compliance with regulatory requirements.\n",
        "\n",
        ". Performance Monitoring:\n",
        "\n",
        "- Logging can be used to monitor performance metrics, such as response times, throughput, and resource utilization.\n",
        "- This helps developers identify performance bottlenecks and optimize their code for better performance.\n",
        "\n",
        "\n",
        "\n",
        "\n",
        "\n",
        "\n",
        "11.  What is memory management in Python?\n",
        "\n",
        "\n",
        "\n",
        "      - Memory management in Python refers to the process of managing the memory used by Python programs. Python's memory management is handled by the Python Memory Manager, which is responsible for allocating, deallocating, and managing memory for Python objects.\n",
        "\n",
        "  \n",
        "\n",
        "\n",
        "\n",
        "12.  What are the basic steps involved in exception handling in Python?\n",
        "\n",
        "\n",
        "\n",
        "      - . Try: Code that might raise an exception.\n",
        ". Except: Catch and handle specific exceptions.\n",
        ". Else (optional): Code to execute if no exceptions occur.\n",
        ". Finally (optional): Code to execute regardless of exceptions.\n",
        "\n",
        "\n",
        "\n",
        "13.  Why is memory management important in Python?\n",
        "\n",
        "\n",
        "       -  Prevents Memory Leaks: Ensures that memory is released when no longer needed.\n",
        ". Optimizes Performance: Efficient memory use improves program speed and responsiveness.\n",
        ". Prevents Crashes: Proper memory management helps prevent crashes due to memory exhaustion.\n",
        ". Reduces Resource Consumption: Minimizes memory usage, reducing resource consumption.\n",
        "\n",
        "By managing memory effectively, you can write more efficient, reliable, and scalable Python programs.\n",
        "\n",
        "\n",
        "\n",
        "\n",
        "\n",
        "\n",
        "\n",
        "\n",
        "\n",
        "\n",
        "\n",
        "\n",
        "\n",
        "\n",
        "\n",
        "14. What is the role of try and except in exception handling?\n",
        "\n",
        "\n",
        "\n",
        "     - Try: Contains code that might raise an exception.\n",
        "        \n",
        "\n",
        "\n",
        "        Except: Catches and handles exceptions raised in the try block, preventing program crashes and providing a way to recover from errors.\n",
        "\n",
        "\n",
        "\n",
        "\n",
        "\n",
        "\n",
        "\n",
        "15.  How does Python's garbage collection system work?\n",
        "\n",
        "\n",
        "\n",
        "        - Python's garbage collection system is a memory management mechanism that automatically frees memory occupied by objects that are no longer needed or referenced.\n",
        "\n",
        "16.  What is the purpose of the else block in exception handling?\n",
        "\n",
        "\n",
        "\n",
        "        - The else block in exception handling is used to specify code that should execute if no exceptions occur in the try block.\n",
        "\n",
        "Benefits:\n",
        "\n",
        ". Code Organization: Allows you to separate code that might raise exceptions from code that should execute only if no exceptions occur.\n",
        ". Improved Readability: Makes your code more readable by clearly defining the flow of execution.\n",
        "\n",
        "\n",
        "\n",
        "\n",
        "17.  What are the common logging levels in Python?\n",
        "\n",
        "\n",
        "\n",
        "     -  Commom logging levels in phython are:\n",
        "\n",
        "\n",
        "        *Debug\n",
        "\n",
        "\n",
        "        *info\n",
        "\n",
        "\n",
        "\n",
        "        *warning\n",
        "\n",
        "\n",
        "\n",
        "\n",
        "\n",
        "        *critical\n",
        "\n",
        "\n",
        "\n",
        "\n",
        "\n",
        "\n",
        "\n",
        "\n",
        "\n",
        "18.  What is the difference between os.fork() and multiprocessing in Python?\n",
        "\n",
        "\n",
        "\n",
        "      - latform Support: os.fork() is Unix-based and not supported on Windows, whereas multiprocessing works across platforms.\n",
        "- Level of Control: os.fork() provides low-level control for process creation, while multiprocessing offers a higher-level interface with additional features like process pools and inter-process communication.\n",
        "- Process Creation: os.fork() creates a new process by duplicating the parent process, whereas multiprocessing uses different start methods like fork, spawn, or forkserver to create new processes.\n",
        "\n",
        "Use Cases:\n",
        "\n",
        "- Use os.fork() when ¹ ²:\n",
        "    - You need fine-grained control over process creation and management.\n",
        "    - You're working on Unix-like systems and require low-level process management.\n",
        "- Use multiprocessing when ² ¹:\n",
        "    - You need a cross-platform solution for parallel processing.\n",
        "    - You want to leverage features like process pools, queues, and synchronization primitives for inter-process communication.\n",
        "\n",
        "Comparison of Start Methods:\n",
        "\n",
        "- Fork: Creates a new process by copying the parent process's memory and state. Suitable for Unix-like systems and efficient for short tasks.\n",
        "- Spawn: Starts a fresh Python interpreter, doesn't inherit anything from the parent except what's passed to it. Works on all major platforms, including Windows ³.\n",
        "\n",
        "Keep in mind that while os.fork() provides more control, multiprocessing offers a more convenient and Pythonic way to handle parallel processing ⁴\n",
        "\n",
        "\n",
        "\n",
        "\n",
        "\n",
        "\n",
        "\n",
        "\n",
        "\n",
        "19.  What is the importance of closing a file in Python?\n",
        "\n",
        "\n",
        "\n",
        "        -  The importance of closing a file in Phython are:\n",
        "\n",
        "\n",
        "\n",
        "             -> Makes free system resources.\n",
        "\n",
        "\n",
        "             -> Prevents file corruption.\n",
        "\n",
        "\n",
        "             -> Allows other process to acess the files.\n",
        "\n",
        "\n",
        "             -> Best practise to ensure that your  code is secure and efficient.\n",
        "\n",
        "\n",
        "\n",
        "\n",
        "\n",
        "\n",
        "\n",
        "20.  What is the difference between file.read() and file.readline() in Python?\n",
        "\n",
        "\n",
        "\n",
        "\n",
        "\n",
        "       -  file.read() anf file.readline() in phython are used to read a file in phython\n",
        "           \n",
        "\n",
        "\n",
        "\n",
        "           file.read() is used to read th entire file of a string\n",
        "\n",
        "           while file.readline() is used to to read a line of a string.\n",
        "\n",
        "\n",
        "\n",
        "\n",
        "\n",
        "\n",
        "\n",
        "21.  What is the logging module in Python used for?\n",
        "\n",
        "\n",
        "\n",
        "      -  logging module is used to track the events happening durinng the execution of a program.\n",
        "\n",
        "\n",
        "\n",
        "22.  What is the os module in Python used for in file handling?\n",
        "\n",
        "\n",
        "\n",
        "        - The os module in Python provides a way to interact with the operating system and perform various file-related operations.\n",
        "\n",
        "\n",
        "\n",
        "23.  What are the challenges associated with memory management in Python?\n",
        "\n",
        "\n",
        "      - Python's memory management can be challenging due to issues like memory leaks from circular references, reference cycles preventing garbage collection, and global variables remaining in memory for the program's lifetime. Large data structures can also consume significant memory, and frequent allocation and deallocation can lead to memory fragmentation. To address these challenges, use best practices like weak references, minimizing global variables, and utilizing generators for large datasets. Additionally, leverage tools like the gc and weakref modules, and memory profilers to optimize memory usage and identify areas for improvement. By understanding these challenges and applying effective strategies, you can write more memory-efficient Python code.\n",
        "\n",
        "\n",
        "\n",
        "\n",
        "24.  How do you raise an exception manually in Python?\n",
        "\n",
        "\n",
        "\n",
        "          - You can raise an exception manually in Python using the raise keyword followed by the exception type and a descriptive message.\n",
        "\n",
        "\n",
        "\n",
        "\n",
        "\n",
        "25.  Why is it important to use multithreading in certain applications?\n",
        "\n",
        "\n",
        "\n",
        "\n",
        "        -  Multithreading is crucial in certain applications as it improves responsiveness, increases throughput, and enables efficient resource utilization. By executing multiple threads concurrently, applications can perform time-consuming tasks in the background while maintaining a responsive user interface. This leads to a smoother user experience, faster execution, and better system utilization. Multithreading is particularly useful in GUI applications, server applications, and scientific computing, where concurrent tasks can significantly improve performance and scalability.\n",
        "\n",
        "\n",
        "\n",
        "\n",
        "\n"
      ],
      "metadata": {
        "id": "6uHHZcADQX4z"
      }
    },
    {
      "cell_type": "markdown",
      "source": [
        "#Practical Questions"
      ],
      "metadata": {
        "id": "rEjqC7Vn897r"
      }
    },
    {
      "cell_type": "code",
      "source": [
        "#1. How can you open a file for writing in Python and write a string to it?\n",
        "\n",
        "\n",
        "with open(\"example.text\",\"w\")as file:\n",
        "  file.write(\"Hello world\")"
      ],
      "metadata": {
        "id": "BsJ_7Kzyeb7_"
      },
      "execution_count": null,
      "outputs": []
    },
    {
      "cell_type": "code",
      "source": [
        "#2.  Write a Python program to read the contents of a file and print each line.\n",
        "\n",
        "\n",
        "  def print_file_lines(filename):\n",
        "    try:\n",
        "        with open(filename, \"r\") as file:\n",
        "            for line in file:\n",
        "                print(line.strip())\n",
        "    except FileNotFoundError:\n",
        "        print(f\"File '{filename}' not found.\")\n"
      ],
      "metadata": {
        "id": "NgBsHKFceb4l",
        "colab": {
          "base_uri": "https://localhost:8080/",
          "height": 106
        },
        "outputId": "a203e4e6-e4be-41fc-ce61-49926c68c85c"
      },
      "execution_count": null,
      "outputs": [
        {
          "output_type": "error",
          "ename": "IndentationError",
          "evalue": "unexpected indent (ipython-input-1924407478.py, line 4)",
          "traceback": [
            "\u001b[0;36m  File \u001b[0;32m\"/tmp/ipython-input-1924407478.py\"\u001b[0;36m, line \u001b[0;32m4\u001b[0m\n\u001b[0;31m    def print_file_lines(filename):\u001b[0m\n\u001b[0m    ^\u001b[0m\n\u001b[0;31mIndentationError\u001b[0m\u001b[0;31m:\u001b[0m unexpected indent\n"
          ]
        }
      ]
    },
    {
      "cell_type": "code",
      "source": [
        "#3. How would you handle a case where the file doesn't exist while trying to open it for reading?\n",
        "\n",
        "\n",
        "\n",
        "try:\n",
        "    with open(\"example.txt\", \"r\") as file:\n",
        "        # Read the file contents\n",
        "        contents = file.read()\n",
        "        print(contents)\n",
        "except FileNotFoundError:\n",
        "    print(\"The file does not exist.\")\n",
        "\n"
      ],
      "metadata": {
        "colab": {
          "base_uri": "https://localhost:8080/"
        },
        "id": "rNt9yKvv_-yZ",
        "outputId": "dc4b6429-1300-40aa-b9d9-b00faf111628"
      },
      "execution_count": null,
      "outputs": [
        {
          "output_type": "stream",
          "name": "stdout",
          "text": [
            "The file does not exist.\n"
          ]
        }
      ]
    },
    {
      "cell_type": "code",
      "source": [
        "#4.  Write a Python script that reads from one file and writes its content to another file.\n",
        "\n",
        "\n",
        "def copy_file(source_filename, destination_filename):\n",
        "    try:\n",
        "        with open(source_filename, \"r\") as source_file:\n",
        "            with open(destination_filename, \"w\") as destination_file:\n",
        "                destination_file.write(source_file.read())\n",
        "        print(f\"File '{source_filename}' copied to '{destination_filename}' successfully.\")\n",
        "    except FileNotFoundError:\n",
        "        print(f\"File '{source_filename}' not found.\")\n",
        "    except Exception as e:\n",
        "        print(f\"An error occurred: {e}\")\n",
        "\n",
        "\n",
        "\n",
        "\n"
      ],
      "metadata": {
        "id": "C4hhjc0UBJjW"
      },
      "execution_count": null,
      "outputs": []
    },
    {
      "cell_type": "code",
      "source": [
        "#5. How would you catch and handle division by zero error in Python?\n",
        "\n",
        "numerator=23\n",
        "denominator=0\n",
        "\n",
        "\n",
        "if denominator == 0:\n",
        "    print(\"Error: Division by zero is not allowed.\")\n",
        "else:\n",
        "    result = numerator / denominator\n",
        "    print(f\"The result is: {result}\")\n"
      ],
      "metadata": {
        "colab": {
          "base_uri": "https://localhost:8080/"
        },
        "id": "WWcMxYdiDKJp",
        "outputId": "1b5489cf-a2ec-434e-be19-9dd7e41f2687"
      },
      "execution_count": null,
      "outputs": [
        {
          "output_type": "stream",
          "name": "stdout",
          "text": [
            "Error: Division by zero is not allowed.\n"
          ]
        }
      ]
    },
    {
      "cell_type": "code",
      "source": [
        "#6. Write a Python program that logs an error message to a log file when a division by zero exception occur.\n",
        "\n",
        "\n",
        "def divide(numerator, denominator):\n",
        "    try:\n",
        "        result = numerator / denominator\n",
        "        return result\n",
        "    except ZeroDivisionError:\n",
        "        logging.error(\"Division by zero error occurred.\")\n",
        "        print(\"Error: Division by zero is not allowed.\")\n",
        "\n"
      ],
      "metadata": {
        "id": "jPudYVRTDe_G"
      },
      "execution_count": null,
      "outputs": []
    },
    {
      "cell_type": "code",
      "execution_count": null,
      "metadata": {
        "id": "2Ku_UP3BPvPv",
        "colab": {
          "base_uri": "https://localhost:8080/"
        },
        "outputId": "7f8d5d8b-c593-41ba-91aa-28fcab6e9e98"
      },
      "outputs": [
        {
          "output_type": "stream",
          "name": "stderr",
          "text": [
            "WARNING:root:This is a warning message.\n",
            "ERROR:root:This is an error message.\n"
          ]
        }
      ],
      "source": [
        "\n",
        "#7. How do you log information at different levels (INFO, ERROR, WARNING) in Python using the logging module?\n",
        "\n",
        "\n",
        "#example:\n",
        "\n",
        "\n",
        "import logging\n",
        "\n",
        "# Configure logging\n",
        "logging.basicConfig(level=logging.INFO)\n",
        "\n",
        "# Log messages\n",
        "logging.info(\"This is an informational message.\")\n",
        "logging.warning(\"This is a warning message.\")\n",
        "logging.error(\"This is an error message.\")\n",
        "\n",
        "\n"
      ]
    },
    {
      "cell_type": "code",
      "source": [
        "#8. Write a program to handle a file opening error using exception handling?\n",
        "\n",
        "\n",
        "\n",
        "try:\n",
        "    with open(\"example.txt\", \"r\") as file:\n",
        "        print(file.read())\n",
        "except FileNotFoundError:\n",
        "    print(\"Error: File not found.\")\n",
        "except Exception as e:\n",
        "    print(f\"An error occurred: {e}\")\n"
      ],
      "metadata": {
        "colab": {
          "base_uri": "https://localhost:8080/"
        },
        "id": "1JLQGAkkEItV",
        "outputId": "b26ad8f4-131d-47e6-80ba-957b0f652677"
      },
      "execution_count": null,
      "outputs": [
        {
          "output_type": "stream",
          "name": "stdout",
          "text": [
            "Error: File not found.\n"
          ]
        }
      ]
    },
    {
      "cell_type": "code",
      "source": [
        "#9.  How can you read a file line by line and store its content in a list in Python?\n",
        "\n",
        "\n",
        "\n",
        "def read_file_lines(filename):\n",
        "    try:\n",
        "        with open(filename, \"r\") as file:\n",
        "            lines = [line.strip() for line in file.readlines()]\n",
        "            return lines\n",
        "    except FileNotFoundError:\n",
        "        print(f\"Error: The file '{filename}' was not found.\")\n",
        "        return []\n"
      ],
      "metadata": {
        "id": "x9n0XObCEgcM"
      },
      "execution_count": null,
      "outputs": []
    },
    {
      "cell_type": "code",
      "source": [
        "#10.  How can you append data to an existing file in Python?\n",
        "\n",
        "\n",
        "def append_to_file(filename, data):\n",
        "    try:\n",
        "        with open(filename, \"a\") as file:\n",
        "            file.write(data + \"\\n\")\n",
        "    except Exception as e:\n",
        "        print(f\"An error occurred: {e}\")\n",
        "\n",
        "\n"
      ],
      "metadata": {
        "id": "woMvntlQEugL"
      },
      "execution_count": null,
      "outputs": []
    },
    {
      "cell_type": "code",
      "source": [
        "#11.  Write a Python program that uses a try-except block to handle an error when attempting to access a dictionary key that doesn't exist.\n",
        "\n",
        "\n",
        "\n",
        "def access_dict_key(dictionary, key):\n",
        "    value = dictionary.get(key)\n",
        "    if value is None:\n",
        "        print(f\"Error: The key '{key}' does not exist in the dictionary.\")\n",
        "    else:\n",
        "        print(f\"The value for key '{key}' is: {value}\")"
      ],
      "metadata": {
        "id": "e7_CDvuME85g"
      },
      "execution_count": null,
      "outputs": []
    },
    {
      "cell_type": "code",
      "source": [
        "#12.  Write a program that demonstrates using multiple except blocks to handle different types of exception.\n",
        "\n",
        "\n",
        "\n",
        "def divide_numbers(a, b):\n",
        "    try:\n",
        "        result = a / b\n",
        "        print(f\"The result is: {result}\")\n",
        "    except ZeroDivisionError:\n",
        "        print(\"Error: Division by zero is not allowed.\")\n",
        "    except TypeError:\n",
        "        print(\"Error: Both inputs must be numbers.\")\n",
        "    except Exception as e:\n",
        "        print(f\"An unexpected error occurred: {e}\")\n"
      ],
      "metadata": {
        "id": "JpjaQH1IFY0h"
      },
      "execution_count": 1,
      "outputs": []
    },
    {
      "cell_type": "code",
      "source": [
        "#13.  How would you check if a file exists before attempting to read it in Python?\n",
        "\n",
        "\n",
        "def check_file_exists(filename):\n",
        "    try:\n",
        "        with open(filename, \"r\") as file:\n",
        "            print(file.read())\n",
        "    except FileNotFoundError:\n",
        "        print(f\"The file '{filename}' does not exist.\")\n"
      ],
      "metadata": {
        "id": "Wtq57M3RW_oL"
      },
      "execution_count": 2,
      "outputs": []
    },
    {
      "cell_type": "code",
      "source": [
        "#14. Write a program that uses the logging module to log both informational and error messages.\n",
        "\n",
        "\n",
        "logging.basicConfig(\n",
        "    filename='app.log',\n",
        "    level=logging.INFO,\n",
        "    format='%(asctime)s - %(levelname)s - %(message)s')\n",
        "def divide_numbers(a, b):\n",
        "   try:\n",
        "        result = a / b\n",
        "        logging.info(f\"Division successful: {a} / {b} = {result}\")\n",
        "        return result\n",
        "\n",
        "\n"
      ],
      "metadata": {
        "colab": {
          "base_uri": "https://localhost:8080/",
          "height": 106
        },
        "id": "C1m5TvSuXRI4",
        "outputId": "c82e8b9a-52a0-47ea-90c1-ef39623f0633"
      },
      "execution_count": 7,
      "outputs": [
        {
          "output_type": "error",
          "ename": "SyntaxError",
          "evalue": "incomplete input (ipython-input-4222188232.py, line 14)",
          "traceback": [
            "\u001b[0;36m  File \u001b[0;32m\"/tmp/ipython-input-4222188232.py\"\u001b[0;36m, line \u001b[0;32m14\u001b[0m\n\u001b[0;31m    \u001b[0m\n\u001b[0m    ^\u001b[0m\n\u001b[0;31mSyntaxError\u001b[0m\u001b[0;31m:\u001b[0m incomplete input\n"
          ]
        }
      ]
    },
    {
      "cell_type": "code",
      "source": [
        "#15.  Write a Python program that prints the content of a file and handles the case when the file is empty.\n",
        "\n",
        "\n",
        "def print_file_content(filename):\n",
        "    try:\n",
        "        with open(filename, \"r\") as file:\n",
        "            content = file.read().strip()\n",
        "            print(content or f\"The file '{filename}' is empty.\")\n",
        "    except FileNotFoundError:\n",
        "        print(f\"The file '{filename}' does not exist.\")\n"
      ],
      "metadata": {
        "id": "qzjCb2qdYofC"
      },
      "execution_count": 4,
      "outputs": []
    },
    {
      "cell_type": "code",
      "source": [
        "#16.  Demonstrate how to use memory profiling to check the memory usage of a small program.\n",
        "\n",
        "\n",
        "import tracemalloc\n",
        "\n",
        "def memory_intensive_function():\n",
        "    # Create a large list\n",
        "    large_list = [i for i in range(1000000)]\n",
        "    return large_list\n",
        "\n",
        "\n",
        "\n"
      ],
      "metadata": {
        "id": "GCRuzNyTZXWy"
      },
      "execution_count": 8,
      "outputs": []
    },
    {
      "cell_type": "code",
      "source": [
        "#17.  Write a Python program to create and write a list of numbers to a file, one number per line.\n",
        "\n",
        "\n",
        "\n",
        "\n",
        "def write_numbers_to_file(filename, numbers):\n",
        "    try:\n",
        "        with open(filename, \"w\") as file:\n",
        "            file.write(\"\\n\".join(map(str, numbers)))\n",
        "        print(f\"Numbers written to '{filename}' successfully.\")\n",
        "    except Exception as e:\n",
        "        print(f\"An error occurred: {e}\")\n",
        "\n"
      ],
      "metadata": {
        "id": "QazE3DYxaJQn"
      },
      "execution_count": 9,
      "outputs": []
    },
    {
      "cell_type": "code",
      "source": [
        "#18.  How would you implement a basic logging setup that logs to a file with rotation after 1MB?\n",
        "\n",
        "import logging\n",
        "from logging.handlers import RotatingFileHandler\n",
        "\n",
        "# Set up logging\n",
        "logger = logging.getLogger(__name__)\n",
        "logger.setLevel(logging.INFO)\n",
        "\n",
        "# Set up rotating file handler\n",
        "handler = RotatingFileHandler(\n",
        "    filename='app.log',\n",
        "    maxBytes=1024 * 1024,  # 1MB\n",
        "    backupCount=5\n",
        ")\n",
        "handler.setLevel(logging.INFO)\n",
        "\n",
        "\n"
      ],
      "metadata": {
        "id": "xhpG1QPsaviE"
      },
      "execution_count": 10,
      "outputs": []
    },
    {
      "cell_type": "code",
      "source": [
        "#19. Write a program that handles both IndexError and KeyError using a try-except block.\n",
        "\n",
        "\n",
        "\n",
        "def access_data(data, index=None, key=None):\n",
        "    try:\n",
        "        if isinstance(data, list) and index is not None:\n",
        "            value = data[index]\n",
        "            print(f\"The value at index {index} is: {value}\")\n",
        "        elif isinstance(data, dict) and key is not None:\n",
        "            value = data[key]\n",
        "            print(f\"The value for key '{key}' is: {value}\")\n",
        "        else:\n",
        "            print(\"Invalid data type or missing index/key.\")\n",
        "    except IndexError:\n",
        "        print(f\"Error: Index {index} is out of range.\")\n",
        "    except KeyError:\n",
        "        print(f\"Error: Key '{key}' not found.\")\n",
        "    except Exception as e:\n",
        "        print(f\"An unexpected error occurred:) {e}\")"
      ],
      "metadata": {
        "id": "jkJ3dJJxbD6g"
      },
      "execution_count": 11,
      "outputs": []
    },
    {
      "cell_type": "code",
      "source": [
        "#20.  How would you open a file and read its contents using a context manager in Python?\n",
        "\n",
        "\n",
        "def read_file(filename):\n",
        "    try:\n",
        "        with open(filename, \"r\") as file:\n",
        "            contents = file.read()\n",
        "            print(contents)\n",
        "    except FileNotFoundError:\n",
        "        print(f\"The file '{filename}' does not exist.\")\n",
        "    except Exception as e:\n",
        "        print(f\"An error occurred: {e}\")\n",
        "\n"
      ],
      "metadata": {
        "id": "sX_Kr8_CbTNs"
      },
      "execution_count": 12,
      "outputs": []
    },
    {
      "cell_type": "code",
      "source": [
        "#21.  Write a Python program that reads a file and prints the number of occurrences of a specific word.\n",
        "\n",
        "\n",
        "\n",
        "def count_word_occurrences(filename, word):\n",
        "    try:\n",
        "        with open(filename, \"r\") as file:\n",
        "            text = file.read().lower()\n",
        "            word = word.lower()\n",
        "            occurrences = text.count(word)\n",
        "            print(f\"The word '{word}' occurs {occurrences} times in the file.\")\n",
        "    except FileNotFoundError:\n",
        "        print(f\"The file '{filename}' does not exist.\")\n",
        "    except Exception as e:\n",
        "        print(f\"An error occurred: {e}\")\n",
        "\n"
      ],
      "metadata": {
        "id": "yeTHrEiAb4zx"
      },
      "execution_count": 13,
      "outputs": []
    },
    {
      "cell_type": "code",
      "source": [
        "#22.  How can you check if a file is empty before attempting to read its contents?\n",
        "\n",
        "\n",
        "def check_file_empty(filename):\n",
        "    try:\n",
        "        with open(filename, \"r\") as file:\n",
        "            content = file.read().strip()\n",
        "            if content:\n",
        "                print(f\"The file '{filename}' is not empty.\")\n",
        "            else:\n",
        "                print(f\"The file '{filename}' is empty.\")\n",
        "    except FileNotFoundError:\n",
        "        print(f\"The file '{filename}' does not exist.\")\n"
      ],
      "metadata": {
        "id": "BHmgM--HcFxD"
      },
      "execution_count": 14,
      "outputs": []
    },
    {
      "cell_type": "code",
      "source": [
        "#23.  Write a Python program that writes to a log file when an error occurs during file handling.\n",
        "\n",
        "\n",
        "\n",
        "\n",
        "\n",
        "import logging\n",
        "\n",
        "# Configure logging\n",
        "logging.basicConfig(\n",
        "    filename='file_handling.log',\n",
        "    level=logging.ERROR,\n",
        "    format='%(asctime)s - %(levelname)s - %(message)s'\n",
        ")\n",
        "\n",
        "def handle_file(filename):\n",
        "    try:\n",
        "        with open(filename, \"r\") as file:\n",
        "            content = file.read()\n",
        "            print(content)\n",
        "    except FileNotFoundError:\n",
        "        logging.error(f\"The file '{filename}' does not exist.\")\n",
        "    except PermissionError:\n",
        "        logging.error(f\"Permission denied to access the file '{filename}'.\")\n",
        "    except Exception as e:\n",
        "        logging.error(f\"An error occurred while handling the file '{filename}': {e}\")\n"
      ],
      "metadata": {
        "id": "omn2_uLJcU2t"
      },
      "execution_count": 15,
      "outputs": []
    }
  ]
}