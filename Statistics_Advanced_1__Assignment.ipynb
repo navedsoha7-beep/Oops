{
  "nbformat": 4,
  "nbformat_minor": 0,
  "metadata": {
    "colab": {
      "provenance": []
    },
    "kernelspec": {
      "name": "python3",
      "display_name": "Python 3"
    },
    "language_info": {
      "name": "python"
    }
  },
  "cells": [
    {
      "cell_type": "markdown",
      "source": [
        "#Statistics Advanced - 1| Assignment\n",
        "\n",
        "\n",
        "\n",
        "1.  What is a random variable in probability theory?\n",
        "\n",
        "\n",
        "\n",
        "       - A random variable is a mathematical representation of a variable whose value is determined by chance or randomness. It's a function that assigns a numerical value to each outcome of a random experiment.\n",
        "\n",
        "\n",
        "\n",
        "\n",
        "2. What are the types of random variables?\n",
        "\n",
        "\n",
        "\n",
        "      -  Discrete random variable: Takes on a countable number of distinct values (e.g., number of heads in a coin toss).\n",
        "\n",
        "\n",
        "       Continuous random variable: Takes on any value within a given interval or range (e.g., height, weight, or temperature).\n",
        "\n",
        "\n",
        "\n",
        "3.  Explain the difference between discrete and continuous distributions.\n",
        "\n",
        "\n",
        "\n",
        "      - Discrete is countable while continous gives us range or interval and cannot be counted.\n",
        "\n",
        "\n",
        "\n",
        "\n",
        "4. What is a binomial distribution, and how is it used in probability?\n",
        "\n",
        "\n",
        "\n",
        "\n",
        "    - The binomial distribution is a discrete probability distribution that models the number of successes in a fixed number of independent trials, where each trial has a constant probability of success.\n",
        "\n",
        "\n",
        "\n",
        "\n",
        "5. What is the standard normal distribution, and why is it important?\n",
        "\n",
        "\n",
        "\n",
        "     - The standard normal distribution, also known as the z-distribution, is a normal distribution with a mean (μ) of 0 and a standard deviation (σ) of 1. It's a continuous probability distribution that's symmetric about the mean and has a bell-shaped curve.\n",
        "\n",
        "\n",
        "\n",
        "\n",
        "6.  What is the Central Limit Theorem (CLT), and why is it critical in statistics?\n",
        "\n",
        "\n",
        "      - The CLT is a fundamental concept in statistics, and its importance lies in its ability to provide a powerful framework for understanding and analyzing data, making predictions, and testing hypotheses.\n",
        "\n",
        "\n",
        "\n",
        "7. : What is the significance of confidence intervals in statistical analysis?\n",
        "\n",
        "\n",
        "\n",
        "\n",
        "\n",
        "      - A confidence interval is a range of values that is likely to contain the true population parameter, such as a mean or proportion. It's calculated from a sample of data and provides a measure of uncertainty associated with the estimate.\n",
        "\n",
        "\n",
        "\n",
        "\n",
        "8. What is the concept of expected value in a probability distribution?\n",
        "\n",
        "\n",
        "      -The expected value, also known as the expectation or mean, is a measure of the central tendency of a probability distribution. It's the long-run average value that a random variable would take on if the experiment were repeated many times.\n",
        "\n",
        "\n",
        "\n",
        "\n"
      ],
      "metadata": {
        "id": "k7VfNhRDSx_o"
      }
    },
    {
      "cell_type": "code",
      "source": [
        "# Write a Python program to generate 1000 random numbers from a normaldistribution with mean = 50 and standard deviation = 5. Compute its mean and standard deviation using NumPy, and draw a histogram to visualize the distribution.\n",
        "\n",
        "\n",
        "import numpy as np\n",
        "import matplotlib.pyplot as plt\n",
        "\n",
        "np.random.seed(0)\n",
        "data = np.random.normal(50, 5, 1000)\n",
        "\n",
        "print(f\"Mean: {np.mean(data):.2f}\")\n",
        "print(f\"Std Dev: {np.std(data):.2f}\")\n",
        "\n",
        "plt.hist(data, bins=30, alpha=0.7, color='blue', edgecolor='black')\n",
        "plt.title('Normal Distribution')\n",
        "plt.xlabel('Value')\n",
        "plt.ylabel('Frequency')\n",
        "plt.show()"
      ],
      "metadata": {
        "colab": {
          "base_uri": "https://localhost:8080/",
          "height": 507
        },
        "id": "KYhB5mNEVa9x",
        "outputId": "56e531de-9073-4014-d083-487238ca64bd"
      },
      "execution_count": 1,
      "outputs": [
        {
          "output_type": "stream",
          "name": "stdout",
          "text": [
            "Mean: 49.77\n",
            "Std Dev: 4.94\n"
          ]
        },
        {
          "output_type": "display_data",
          "data": {
            "text/plain": [
              "<Figure size 640x480 with 1 Axes>"
            ],
            "image/png": "[encoded data removed]"
          },
          "metadata": {}
        }
      ]
    },
    {
      "cell_type": "code",
      "source": [
        "#You are working as a data analyst for a retail company. The company has\n",
        "#collected daily sales data for 2 years and wants you to identify the overall sales trend.\n",
        "#daily_sales = [220, 245, 210, 265, 230, 250, 260, 275, 240, 255,\n",
        "#235, 260, 245, 250, 225, 270, 265, 255, 250, 260]\n",
        "#● Explain how you would apply the Central Limit Theorem to estimate the average sales with a 95% confidence interval.\n",
        "#● Write the Python code to compute the mean sales and its confidence interval.\n",
        "\n",
        "import numpy as np\n",
        "from scipy import stats\n",
        "\n",
        "daily_sales = np.array([220, 245, 210, 265, 230, 250, 260, 275, 240, 255, 235, 260, 245, 250, 225, 270, 265, 255, 250, 260])\n",
        "\n",
        "mean_sales = np.mean(daily_sales)\n",
        "std_dev = np.std(daily_sales, ddof=1)\n",
        "std_error = std_dev / np.sqrt(len(daily_sales))\n",
        "critical_value = stats.norm.ppf(0.975)\n",
        "\n",
        "margin_error = critical_value * std_error\n",
        "lower_bound = mean_sales - margin_error\n",
        "upper_bound = mean_sales + margin_error\n",
        "\n",
        "print(f\"Mean Sales: {mean_sales:.2f}\")\n",
        "print(f\"95% CI: ({lower_bound:.2f}, {upper_bound:.2f})\")"
      ],
      "metadata": {
        "colab": {
          "base_uri": "https://localhost:8080/"
        },
        "id": "XKxS4sWmWC9f",
        "outputId": "b7aae3aa-dee4-4816-bbf5-b3ad499999f3"
      },
      "execution_count": 3,
      "outputs": [
        {
          "output_type": "stream",
          "name": "stdout",
          "text": [
            "Mean Sales: 248.25\n",
            "95% CI: (240.68, 255.82)\n"
          ]
        }
      ]
    }
  ]
}